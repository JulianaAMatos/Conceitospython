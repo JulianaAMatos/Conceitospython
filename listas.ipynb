{
 "cells": [
  {
   "cell_type": "code",
   "execution_count": 202,
   "metadata": {},
   "outputs": [],
   "source": [
    "# Coleções \n",
    "\n",
    "##Listas"
   ]
  },
  {
   "cell_type": "code",
   "execution_count": 203,
   "metadata": {},
   "outputs": [
    {
     "name": "stdout",
     "output_type": "stream",
     "text": [
      "['banana', 'laranja', 'uva', 'pera', 'melancia']\n"
     ]
    }
   ],
   "source": [
    "frutas= ['banana', 'laranja', 'uva', 'pera', 'melancia']\n",
    "print(frutas)"
   ]
  },
  {
   "cell_type": "code",
   "execution_count": 204,
   "metadata": {},
   "outputs": [
    {
     "name": "stdout",
     "output_type": "stream",
     "text": [
      "[[1, 2, 3], [4, 5, 5], [7, 8, 9]]\n"
     ]
    }
   ],
   "source": [
    "# Listas de listas\n",
    "listas = [[1,2,3], [4,5,5],[7,8,9]]\n",
    "print(listas)"
   ]
  },
  {
   "cell_type": "code",
   "execution_count": 205,
   "metadata": {},
   "outputs": [
    {
     "name": "stdout",
     "output_type": "stream",
     "text": [
      "[1, 'banana', 2.5, True]\n"
     ]
    }
   ],
   "source": [
    "#lista mistas\n",
    "\n",
    "misturada= [1, 'banana', 2.5, True]\n",
    "print(misturada)"
   ]
  },
  {
   "cell_type": "code",
   "execution_count": 206,
   "metadata": {},
   "outputs": [
    {
     "name": "stdout",
     "output_type": "stream",
     "text": [
      "5\n"
     ]
    }
   ],
   "source": [
    "# Tamanho da lista\n",
    "print(len(frutas))"
   ]
  },
  {
   "cell_type": "code",
   "execution_count": 207,
   "metadata": {},
   "outputs": [
    {
     "name": "stdout",
     "output_type": "stream",
     "text": [
      "banana\n"
     ]
    }
   ],
   "source": [
    "#Acessar elementos de listas\n",
    "\n",
    "print(frutas[0])"
   ]
  },
  {
   "cell_type": "code",
   "execution_count": 208,
   "metadata": {},
   "outputs": [
    {
     "name": "stdout",
     "output_type": "stream",
     "text": [
      "melancia\n"
     ]
    }
   ],
   "source": [
    "# Acessando elemento de trás para frente\n",
    "\n",
    "print(frutas[-1])"
   ]
  },
  {
   "cell_type": "code",
   "execution_count": 209,
   "metadata": {},
   "outputs": [
    {
     "name": "stdout",
     "output_type": "stream",
     "text": [
      "['laranja', 'uva']\n"
     ]
    }
   ],
   "source": [
    "# Acessar intervalos\n",
    "\n",
    "print(frutas[1:3]) #sem incluir o três"
   ]
  },
  {
   "cell_type": "code",
   "execution_count": 210,
   "metadata": {},
   "outputs": [
    {
     "name": "stdout",
     "output_type": "stream",
     "text": [
      "['banana', 'laranja', 'uva']\n",
      "['uva', 'pera', 'melancia']\n"
     ]
    }
   ],
   "source": [
    "print(frutas[:3])  #do ínicio ao índice 3, sem incluir o 3\n",
    "print(frutas[2:])  #do índice 2 ao final"
   ]
  },
  {
   "cell_type": "code",
   "execution_count": 211,
   "metadata": {},
   "outputs": [
    {
     "name": "stdout",
     "output_type": "stream",
     "text": [
      "['banana', 'laranja', 'uva', 'pera', 'melancia', 'jabuticaba', 'morango']\n"
     ]
    }
   ],
   "source": [
    "# Adicionando elementos\n",
    "\n",
    "frutas.append('jabuticaba')\n",
    "frutas.append('morango')\n",
    "print(frutas)"
   ]
  },
  {
   "cell_type": "code",
   "execution_count": 212,
   "metadata": {},
   "outputs": [
    {
     "name": "stdout",
     "output_type": "stream",
     "text": [
      "['banana', 'laranja', 'Abacaxi', 'uva', 'pera', 'melancia', 'jabuticaba', 'morango']\n"
     ]
    }
   ],
   "source": [
    "#Adicionando elementos em uma posição específica\n",
    "\n",
    "frutas.insert(2,'Abacaxi')\n",
    "print(frutas)\n"
   ]
  },
  {
   "cell_type": "code",
   "execution_count": 213,
   "metadata": {},
   "outputs": [
    {
     "name": "stdout",
     "output_type": "stream",
     "text": [
      "['banana', 'laranja', 'Abacaxi', 'jaca', 'pera', 'melancia', 'jabuticaba', 'morango']\n"
     ]
    }
   ],
   "source": [
    "# Substituindo elementos \n",
    "\n",
    "frutas[3]= ('jaca')\n",
    "print(frutas)"
   ]
  },
  {
   "cell_type": "code",
   "execution_count": 214,
   "metadata": {},
   "outputs": [
    {
     "name": "stdout",
     "output_type": "stream",
     "text": [
      "melancia removida\n"
     ]
    }
   ],
   "source": [
    "# Removendo elementos\n",
    "try:\n",
    "      frutas.remove('melancia')\n",
    "      print('melancia removida')\n",
    "except ValueError:\n",
    "    print('Não foi possível encontrar o elemento')"
   ]
  },
  {
   "cell_type": "code",
   "execution_count": 215,
   "metadata": {},
   "outputs": [
    {
     "name": "stdout",
     "output_type": "stream",
     "text": [
      "['banana', 'laranja', 'Abacaxi', 'jaca', 'pera', 'jabuticaba', 'morango', 'romã', 'caju', 'graviola']\n"
     ]
    }
   ],
   "source": [
    "#Extendendo listas\n",
    "frutas2= ['romã', 'caju', 'graviola']\n",
    "frutas.extend(frutas2)\n",
    "print(frutas)"
   ]
  },
  {
   "cell_type": "code",
   "execution_count": 216,
   "metadata": {},
   "outputs": [
    {
     "name": "stdout",
     "output_type": "stream",
     "text": [
      "['banana', 'laranja', 'Abacaxi', 'jaca', 'pera', 'jabuticaba', 'morango', 'romã', 'caju', 'graviola', 'manga', 'goiaba', 'caqui']\n"
     ]
    }
   ],
   "source": [
    "#Extendendo listas com base  em outros tipos iteraveis\n",
    "tupla=('manga', 'goiaba', 'caqui')\n",
    "frutas.extend(tupla)\n",
    "print(frutas)"
   ]
  },
  {
   "cell_type": "code",
   "execution_count": 217,
   "metadata": {},
   "outputs": [
    {
     "name": "stdout",
     "output_type": "stream",
     "text": [
      "['banana', 'laranja', 'Abacaxi', 'jaca', 'pera', 'jabuticaba', 'morango', 'romã', 'caju', 'graviola', 'manga', 'goiaba']\n"
     ]
    }
   ],
   "source": [
    "# Removendo elementos ao final da lista\n",
    "frutas.pop()\n",
    "print(frutas)"
   ]
  },
  {
   "cell_type": "code",
   "execution_count": 218,
   "metadata": {},
   "outputs": [
    {
     "name": "stdout",
     "output_type": "stream",
     "text": [
      "['banana', 'laranja', 'Abacaxi', 'jaca', 'jabuticaba', 'morango', 'romã', 'caju', 'graviola', 'manga', 'goiaba']\n"
     ]
    }
   ],
   "source": [
    "# Removendo elementos de uma posição específica\n",
    "frutas.pop(4)\n",
    "print(frutas)"
   ]
  },
  {
   "cell_type": "code",
   "execution_count": 219,
   "metadata": {},
   "outputs": [
    {
     "name": "stdout",
     "output_type": "stream",
     "text": [
      "['banana', 'laranja', 'Abacaxi', 'jaca', 'morango', 'romã', 'caju', 'graviola', 'manga', 'goiaba']\n"
     ]
    }
   ],
   "source": [
    "# Removendo elementos com base na função del\n",
    "del frutas[4]\n",
    "print(frutas)"
   ]
  },
  {
   "cell_type": "code",
   "execution_count": 220,
   "metadata": {},
   "outputs": [
    {
     "name": "stdout",
     "output_type": "stream",
     "text": [
      "[]\n"
     ]
    }
   ],
   "source": [
    "# Removendo todos os elementos\n",
    "\n",
    "frutas.clear()\n",
    "print(frutas)"
   ]
  },
  {
   "cell_type": "code",
   "execution_count": 245,
   "metadata": {},
   "outputs": [],
   "source": [
    "# Nova lista\n",
    "\n",
    "legumes =['cenoura', 'beterraba', 'abobora', 'batata'] "
   ]
  },
  {
   "cell_type": "code",
   "execution_count": 246,
   "metadata": {},
   "outputs": [
    {
     "name": "stdout",
     "output_type": "stream",
     "text": [
      "cenoura\n",
      "beterraba\n",
      "abobora\n",
      "batata\n"
     ]
    }
   ],
   "source": [
    "# Iterando sobre listas\n",
    "for legume in legumes:\n",
    "    print(legume)\n"
   ]
  },
  {
   "cell_type": "code",
   "execution_count": 247,
   "metadata": {},
   "outputs": [
    {
     "name": "stdout",
     "output_type": "stream",
     "text": [
      "cenoura\n",
      "beterraba\n",
      "abobora\n",
      "batata\n"
     ]
    },
    {
     "data": {
      "text/plain": [
       "[None, None, None, None]"
      ]
     },
     "execution_count": 247,
     "metadata": {},
     "output_type": "execute_result"
    }
   ],
   "source": [
    "# Shorhand for\n",
    "[print(legume) for legume in legumes]"
   ]
  },
  {
   "cell_type": "code",
   "execution_count": 248,
   "metadata": {},
   "outputs": [
    {
     "name": "stdout",
     "output_type": "stream",
     "text": [
      "cenoura\n",
      "beterraba\n",
      "abobora\n",
      "batata\n"
     ]
    },
    {
     "data": {
      "text/plain": [
       "[None, None, None, None]"
      ]
     },
     "execution_count": 248,
     "metadata": {},
     "output_type": "execute_result"
    }
   ],
   "source": [
    "[print(legume) for legume in legumes]"
   ]
  },
  {
   "cell_type": "code",
   "execution_count": 249,
   "metadata": {},
   "outputs": [
    {
     "name": "stdout",
     "output_type": "stream",
     "text": [
      "['cenoura', 'beterraba', 'abobora', 'batata']\n"
     ]
    }
   ],
   "source": [
    "# Ordenando listas\n",
    "print(legumes)"
   ]
  },
  {
   "cell_type": "code",
   "execution_count": 250,
   "metadata": {},
   "outputs": [
    {
     "name": "stdout",
     "output_type": "stream",
     "text": [
      "['abobora', 'batata', 'beterraba', 'cenoura']\n"
     ]
    }
   ],
   "source": [
    "# Ordenando em ordem crescente (alfabética)\n",
    "legumes.sort()\n",
    "print(legumes)"
   ]
  },
  {
   "cell_type": "code",
   "execution_count": 251,
   "metadata": {},
   "outputs": [
    {
     "name": "stdout",
     "output_type": "stream",
     "text": [
      "['cenoura', 'beterraba', 'batata', 'abobora']\n"
     ]
    }
   ],
   "source": [
    "# Ordenando em ordem decrescente (alfabética)\n",
    "legumes.sort(reverse=True)\n",
    "print(legumes)"
   ]
  },
  {
   "cell_type": "code",
   "execution_count": 252,
   "metadata": {},
   "outputs": [
    {
     "name": "stdout",
     "output_type": "stream",
     "text": [
      "['cenoura', 'beterraba', 'batata', 'abobora']\n"
     ]
    }
   ],
   "source": [
    "sopa = legumes.copy()\n",
    "print(sopa)\n"
   ]
  },
  {
   "cell_type": "code",
   "execution_count": 253,
   "metadata": {},
   "outputs": [
    {
     "name": "stdout",
     "output_type": "stream",
     "text": [
      "['abobora', 'batata', 'beterraba', 'cenoura']\n",
      "['cenoura', 'beterraba', 'batata', 'abobora']\n"
     ]
    }
   ],
   "source": [
    "# Ordenando com a função global sorted()\n",
    "print(sorted(legumes))\n",
    "print(legumes)"
   ]
  },
  {
   "cell_type": "code",
   "execution_count": 255,
   "metadata": {},
   "outputs": [],
   "source": [
    "# Listas permitem elementos duplicados\n",
    "legumes.extend(['cenoura', 'beterraba', 'abóbora', 'batata', 'batata', 'batata'])"
   ]
  },
  {
   "cell_type": "code",
   "execution_count": 256,
   "metadata": {},
   "outputs": [
    {
     "name": "stdout",
     "output_type": "stream",
     "text": [
      "['cenoura', 'beterraba', 'batata', 'abobora', 'cenoura', 'beterraba', 'abóbora', 'batata', 'batata', 'batata', 'cenoura', 'beterraba', 'abóbora', 'batata', 'batata', 'batata']\n",
      "7\n",
      "3\n"
     ]
    }
   ],
   "source": [
    "# Contando a quantidade de ocorrências de um elemento\n",
    "print(legumes)\n",
    "print(legumes.count('batata'))\n",
    "print(legumes.count('beterraba'))"
   ]
  },
  {
   "cell_type": "code",
   "execution_count": 257,
   "metadata": {},
   "outputs": [
    {
     "name": "stdout",
     "output_type": "stream",
     "text": [
      "1\n"
     ]
    }
   ],
   "source": [
    "# Encontrando o índice de um elemento\n",
    "print(legumes.index('beterraba'))"
   ]
  },
  {
   "cell_type": "code",
   "execution_count": 224,
   "metadata": {},
   "outputs": [
    {
     "name": "stdout",
     "output_type": "stream",
     "text": [
      "Números pares: [0, 2, 4, 6, 8]\n",
      "Números impares: [1, 3, 5, 7, 9]\n"
     ]
    }
   ],
   "source": [
    "numeros = [0,1,2,3,4,5,6,7,8,9]\n",
    "pares =[ numero for numero in numeros if numero % 2 ==0]\n",
    "impares =[ numero for numero in numeros if numero % 2 !=0]\n",
    "# No Java Script\n",
    "# const pares = numeros.filter(numero => numero % 2 == 0)\n",
    "\n",
    "#for (let numero of numeros)\n",
    "#if (numero % 2 === 0){\n",
    "#    pares.push(numero)\n",
    "#}\n",
    "\n",
    "print(f'Números pares: {pares}')\n",
    "print(f'Números impares: {impares}')"
   ]
  },
  {
   "cell_type": "code",
   "execution_count": 225,
   "metadata": {},
   "outputs": [
    {
     "name": "stdout",
     "output_type": "stream",
     "text": [
      "batata\n"
     ]
    }
   ],
   "source": [
    "#Ordenado listas\n",
    "print(legumes)"
   ]
  },
  {
   "cell_type": "code",
   "execution_count": null,
   "metadata": {},
   "outputs": [],
   "source": [
    "# Ordenando em ordem decrescente (alfabética)\n",
    "legumes.sort(reversed)"
   ]
  },
  {
   "cell_type": "markdown",
   "metadata": {},
   "source": []
  },
  {
   "cell_type": "code",
   "execution_count": null,
   "metadata": {},
   "outputs": [
    {
     "ename": "AttributeError",
     "evalue": "'str' object has no attribute 'copy'",
     "output_type": "error",
     "traceback": [
      "\u001b[1;31m---------------------------------------------------------------------------\u001b[0m",
      "\u001b[1;31mAttributeError\u001b[0m                            Traceback (most recent call last)",
      "Cell \u001b[1;32mIn[201], line 1\u001b[0m\n\u001b[1;32m----> 1\u001b[0m sopa\u001b[38;5;241m=\u001b[39m \u001b[43mlegumes\u001b[49m\u001b[38;5;241;43m.\u001b[39;49m\u001b[43mcopy\u001b[49m()\n\u001b[0;32m      2\u001b[0m \u001b[38;5;28mprint\u001b[39m(sopa)\n",
      "\u001b[1;31mAttributeError\u001b[0m: 'str' object has no attribute 'copy'"
     ]
    }
   ],
   "source": [
    "sopa= legumes.copy()\n",
    "print(sopa)"
   ]
  },
  {
   "cell_type": "code",
   "execution_count": 227,
   "metadata": {},
   "outputs": [
    {
     "name": "stdout",
     "output_type": "stream",
     "text": [
      "['a', 'a', 'a', 'b', 't', 't']\n",
      "batata\n"
     ]
    }
   ],
   "source": [
    "print(sorted(legumes))\n",
    "print(legumes)"
   ]
  },
  {
   "cell_type": "code",
   "execution_count": 234,
   "metadata": {},
   "outputs": [
    {
     "ename": "AttributeError",
     "evalue": "'str' object has no attribute 'extend'",
     "output_type": "error",
     "traceback": [
      "\u001b[1;31m---------------------------------------------------------------------------\u001b[0m",
      "\u001b[1;31mAttributeError\u001b[0m                            Traceback (most recent call last)",
      "Cell \u001b[1;32mIn[234], line 2\u001b[0m\n\u001b[0;32m      1\u001b[0m \u001b[38;5;66;03m# Listas permitem elementos duplicados\u001b[39;00m\n\u001b[1;32m----> 2\u001b[0m \u001b[43mlegumes\u001b[49m\u001b[38;5;241;43m.\u001b[39;49m\u001b[43mextend\u001b[49m([\u001b[38;5;124m'\u001b[39m\u001b[38;5;124mcenoura\u001b[39m\u001b[38;5;124m'\u001b[39m, \u001b[38;5;124m'\u001b[39m\u001b[38;5;124mbeterraba\u001b[39m\u001b[38;5;124m'\u001b[39m, \u001b[38;5;124m'\u001b[39m\u001b[38;5;124mabobrinha\u001b[39m\u001b[38;5;124m'\u001b[39m, \u001b[38;5;124m'\u001b[39m\u001b[38;5;124mbatata\u001b[39m\u001b[38;5;124m'\u001b[39m])\n\u001b[0;32m      3\u001b[0m \u001b[38;5;28mprint\u001b[39m(legumes)\n",
      "\u001b[1;31mAttributeError\u001b[0m: 'str' object has no attribute 'extend'"
     ]
    }
   ],
   "source": [
    "# Listas permitem elementos duplicados\n",
    "legumes.extend(['cenoura', 'beterraba', 'abobrinha', 'batata'])\n",
    "print(legumes)\n"
   ]
  }
 ],
 "metadata": {
  "kernelspec": {
   "display_name": "Python 3",
   "language": "python",
   "name": "python3"
  },
  "language_info": {
   "codemirror_mode": {
    "name": "ipython",
    "version": 3
   },
   "file_extension": ".py",
   "mimetype": "text/x-python",
   "name": "python",
   "nbconvert_exporter": "python",
   "pygments_lexer": "ipython3",
   "version": "3.12.0"
  }
 },
 "nbformat": 4,
 "nbformat_minor": 2
}
